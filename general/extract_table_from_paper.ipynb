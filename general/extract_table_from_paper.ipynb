{
 "cells": [
  {
   "cell_type": "markdown",
   "metadata": {},
   "source": [
    "# Data Wrangling"
   ]
  },
  {
   "cell_type": "markdown",
   "metadata": {},
   "source": [
    "## Extract data from a scientific paper\n",
    "\n",
    "This will extract Table 1 from the scientific paper [_NMR determination of pKa values in α‐synuclein_](https://doi.org/10.1002/pro.556).\n",
    "The first extraction is very messy, so a bit of cleanup is added in the following lines.\n",
    "Note that `pandas` requires that the `lxml` package is installed.\n",
    "To run this, do the following:\n",
    "1. Follow the link to the above paper, assuming you have full-text access\n",
    "2. Save the page as `croke.html` and place it in this folder\n",
    "3. Run the cell below"
   ]
  },
  {
   "cell_type": "code",
   "execution_count": 1,
   "metadata": {},
   "outputs": [
    {
     "data": {
      "text/html": [
       "<div>\n",
       "<style scoped>\n",
       "    .dataframe tbody tr th:only-of-type {\n",
       "        vertical-align: middle;\n",
       "    }\n",
       "\n",
       "    .dataframe tbody tr th {\n",
       "        vertical-align: top;\n",
       "    }\n",
       "\n",
       "    .dataframe thead th {\n",
       "        text-align: right;\n",
       "    }\n",
       "</style>\n",
       "<table border=\"1\" class=\"dataframe\">\n",
       "  <thead>\n",
       "    <tr style=\"text-align: right;\">\n",
       "      <th></th>\n",
       "      <th>Site</th>\n",
       "      <th>pKa</th>\n",
       "      <th>err</th>\n",
       "      <th>resname</th>\n",
       "      <th>resnum</th>\n",
       "    </tr>\n",
       "  </thead>\n",
       "  <tbody>\n",
       "    <tr>\n",
       "      <th>20</th>\n",
       "      <td>Glu130</td>\n",
       "      <td>4.53</td>\n",
       "      <td>0.06</td>\n",
       "      <td>Glu</td>\n",
       "      <td>130</td>\n",
       "    </tr>\n",
       "    <tr>\n",
       "      <th>21</th>\n",
       "      <td>Glu131</td>\n",
       "      <td>4.58</td>\n",
       "      <td>0.05</td>\n",
       "      <td>Glu</td>\n",
       "      <td>131</td>\n",
       "    </tr>\n",
       "    <tr>\n",
       "      <th>22</th>\n",
       "      <td>Asp135</td>\n",
       "      <td>4.16</td>\n",
       "      <td>0.07</td>\n",
       "      <td>Asp</td>\n",
       "      <td>135</td>\n",
       "    </tr>\n",
       "    <tr>\n",
       "      <th>23</th>\n",
       "      <td>Glu137</td>\n",
       "      <td>4.82</td>\n",
       "      <td>0.16</td>\n",
       "      <td>Glu</td>\n",
       "      <td>137</td>\n",
       "    </tr>\n",
       "    <tr>\n",
       "      <th>24</th>\n",
       "      <td>Glu139</td>\n",
       "      <td>4.69</td>\n",
       "      <td>0.04</td>\n",
       "      <td>Glu</td>\n",
       "      <td>139</td>\n",
       "    </tr>\n",
       "  </tbody>\n",
       "</table>\n",
       "</div>"
      ],
      "text/plain": [
       "      Site   pKa   err resname  resnum\n",
       "20  Glu130  4.53  0.06     Glu     130\n",
       "21  Glu131  4.58  0.05     Glu     131\n",
       "22  Asp135  4.16  0.07     Asp     135\n",
       "23  Glu137  4.82  0.16     Glu     137\n",
       "24  Glu139  4.69  0.04     Glu     139"
      ]
     },
     "execution_count": 1,
     "metadata": {},
     "output_type": "execute_result"
    }
   ],
   "source": [
    "import pandas as pd\n",
    "db = pd.read_html('croke.html')[0][\"No salt\"] # HTML exported from journal page (not provided here)\n",
    "db.drop(db.tail(1).index,inplace=True)\n",
    "db.drop(columns=['n', 'Î´low', 'Î´high'], inplace=True)\n",
    "pKa = db.pKa.str.split('Â').str.get(0).astype(float)\n",
    "err = db.pKa.str.split('Â').str.get(1).str.split('±').str.get(1).astype(float)\n",
    "db = db.assign(pKa=pKa)\n",
    "db = db.assign(err=err)\n",
    "db = db.assign(Site=db.Site.str.split(' ').str.get(0).str.replace('cc', '').str.replace('dd',''))\n",
    "db = db.assign(resname = db.Site.str.split('([A-Za-z]+)(\\d+)').str.get(1).astype(str))\n",
    "db = db.assign(resnum = db.Site.str.split('([A-Za-z]+)(\\d+)').str.get(2).astype(int))\n",
    "#db.drop(columns=['Site'], inplace=True)\n",
    "db.to_csv('croke.csv')\n",
    "db.tail()"
   ]
  },
  {
   "cell_type": "code",
   "execution_count": 2,
   "metadata": {},
   "outputs": [
    {
     "data": {
      "text/plain": [
       "<AxesSubplot:xlabel='Site'>"
      ]
     },
     "execution_count": 2,
     "metadata": {},
     "output_type": "execute_result"
    },
    {
     "data": {
      "image/png": "[encoded data removed]",
      "text/plain": [
       "<Figure size 432x288 with 1 Axes>"
      ]
     },
     "metadata": {
      "needs_background": "light"
     },
     "output_type": "display_data"
    }
   ],
   "source": [
    "db.plot(x='Site', y='pKa', yerr='err')"
   ]
  }
 ],
 "metadata": {
  "kernelspec": {
   "display_name": "Python 3 (ipykernel)",
   "language": "python",
   "name": "python3"
  },
  "language_info": {
   "codemirror_mode": {
    "name": "ipython",
    "version": 3
   },
   "file_extension": ".py",
   "mimetype": "text/x-python",
   "name": "python",
   "nbconvert_exporter": "python",
   "pygments_lexer": "ipython3",
   "version": "3.9.12"
  }
 },
 "nbformat": 4,
 "nbformat_minor": 4
}
