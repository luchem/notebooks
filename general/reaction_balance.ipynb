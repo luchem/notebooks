{
 "cells": [
  {
   "cell_type": "markdown",
   "id": "64b05c94-e1e9-4ad7-8c23-546366851e87",
   "metadata": {},
   "source": [
    "# Example 1: Balancing chemical equations\n",
    "\n",
    "This follows the example from [_An Innovative Approach to Balancing Chemical-Reaction Equations: A Simplified Matrix-Inversion Technique for Determining The Matrix Null Space_](https://doi.org/10.48550/arXiv.1110.4321) for find the stoichiometric coefficients for the reaction\n",
    "\n",
    "KI + KClO₃ + HCl → I₂ + H₂O + KCl"
   ]
  },
  {
   "cell_type": "code",
   "execution_count": 1,
   "id": "b7eeae40-0b90-4c25-8bac-243e3ba8df72",
   "metadata": {
    "tags": []
   },
   "outputs": [],
   "source": [
    "import numpy as np"
   ]
  },
  {
   "cell_type": "code",
   "execution_count": 2,
   "id": "1a5a260f-e538-4a90-8abf-e4f5bb084ef2",
   "metadata": {
    "tags": []
   },
   "outputs": [],
   "source": [
    "# composition matrix\n",
    "comp = np.array([[1,1,0,0,0,1],\n",
    "                 [1,0,0,2,0,0],\n",
    "                 [0,3,0,0,1,0],\n",
    "                 [0,0,1,0,2,0],\n",
    "                 [0,1,1,0,0,1]])"
   ]
  },
  {
   "cell_type": "code",
   "execution_count": 3,
   "id": "a02398a9-fcf8-4e31-bb67-eec74952c257",
   "metadata": {
    "tags": []
   },
   "outputs": [
    {
     "data": {
      "text/plain": [
       "(6, 5, 1)"
      ]
     },
     "execution_count": 3,
     "metadata": {},
     "output_type": "execute_result"
    }
   ],
   "source": [
    "rank = np.linalg.matrix_rank(comp)\n",
    "species = comp.shape[1]\n",
    "nullity = species - rank\n",
    "species, rank, nullity"
   ]
  },
  {
   "cell_type": "code",
   "execution_count": 4,
   "id": "93c47734-fc16-408b-9f26-82d79be38328",
   "metadata": {
    "tags": []
   },
   "outputs": [
    {
     "data": {
      "text/plain": [
       "array([[1, 1, 0, 0, 0, 1],\n",
       "       [1, 0, 0, 2, 0, 0],\n",
       "       [0, 3, 0, 0, 1, 0],\n",
       "       [0, 0, 1, 0, 2, 0],\n",
       "       [0, 1, 1, 0, 0, 1],\n",
       "       [0, 0, 0, 0, 0, 1]])"
      ]
     },
     "execution_count": 4,
     "metadata": {},
     "output_type": "execute_result"
    }
   ],
   "source": [
    "comp_augmented = np.vstack([comp, [0,0,0,0,0,1]]) # add row; see article\n",
    "comp_augmented"
   ]
  },
  {
   "cell_type": "code",
   "execution_count": 5,
   "id": "38d2ee38-4aee-456b-853a-b164806269ae",
   "metadata": {
    "tags": []
   },
   "outputs": [
    {
     "data": {
      "text/plain": [
       "array([[ 1.        ,  0.        , -0.28571429,  0.14285714, -0.14285714,\n",
       "        -0.85714286],\n",
       "       [ 0.        ,  0.        ,  0.28571429, -0.14285714,  0.14285714,\n",
       "        -0.14285714],\n",
       "       [ 0.        ,  0.        , -0.28571429,  0.14285714,  0.85714286,\n",
       "        -0.85714286],\n",
       "       [-0.5       ,  0.5       ,  0.14285714, -0.07142857,  0.07142857,\n",
       "         0.42857143],\n",
       "       [-0.        , -0.        ,  0.14285714,  0.42857143, -0.42857143,\n",
       "         0.42857143],\n",
       "       [ 0.        ,  0.        ,  0.        ,  0.        ,  0.        ,\n",
       "         1.        ]])"
      ]
     },
     "execution_count": 5,
     "metadata": {},
     "output_type": "execute_result"
    }
   ],
   "source": [
    "inverted = np.linalg.inv(comp_augmented)\n",
    "inverted"
   ]
  },
  {
   "cell_type": "code",
   "execution_count": 6,
   "id": "e27689c1-cccb-4a06-b995-9f4e20c23cb6",
   "metadata": {
    "tags": []
   },
   "outputs": [
    {
     "data": {
      "text/plain": [
       "array([[-6., -1., -6.,  3.,  3.,  7.]])"
      ]
     },
     "execution_count": 6,
     "metadata": {},
     "output_type": "execute_result"
    }
   ],
   "source": [
    "ns = inverted.T[np.all(inverted.T != 0.0, axis=1)] # take only non-zero columns\n",
    "stoichiometric_coeffs = ns / np.abs(ns).min()      # normalize\n",
    "stoichiometric_coeffs"
   ]
  }
 ],
 "metadata": {
  "kernelspec": {
   "display_name": "Python 3 (ipykernel)",
   "language": "python",
   "name": "python3"
  },
  "language_info": {
   "codemirror_mode": {
    "name": "ipython",
    "version": 3
   },
   "file_extension": ".py",
   "mimetype": "text/x-python",
   "name": "python",
   "nbconvert_exporter": "python",
   "pygments_lexer": "ipython3",
   "version": "3.10.9"
  }
 },
 "nbformat": 4,
 "nbformat_minor": 5
}
