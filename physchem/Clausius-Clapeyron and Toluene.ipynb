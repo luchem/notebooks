{
 "cells": [
  {
   "cell_type": "markdown",
   "id": "ebe928ce-07ab-46ef-ae91-dd36b67b4b38",
   "metadata": {},
   "source": [
    "# Linear regression of toluen vapor pressure\n",
    "\n",
    "This uses the Clausius-Clapeyron equation to estimate the heat of vaporization for\n",
    "toluene. From K. Modigs KFKA05 Kompendium **K14.2**.\n",
    "\n",
    "<img src=\"assets/clausius_clapeyron_toluene.png\" alt=\"drawing\" width=\"400\"/>"
   ]
  },
  {
   "cell_type": "code",
   "execution_count": null,
   "id": "33ba52ba-7841-4148-aefc-831963692fcc",
   "metadata": {
    "tags": []
   },
   "outputs": [],
   "source": [
    "import numpy as np\n",
    "from math import exp\n",
    "from scipy.constants import R"
   ]
  },
  {
   "cell_type": "code",
   "execution_count": null,
   "id": "9022a23b-02a1-4f50-a8d6-0fc467a1326f",
   "metadata": {},
   "outputs": [],
   "source": [
    "T = np.array([30, 34, 39, 47]) + 273.15 # T from table (K)\n",
    "p = np.array([36.5, 44.5, 56.5, 81.5])  # p from table (torr)\n",
    "p1 = 760                                # 1 atm ref. pressure in (torr)\n",
    "a, b = np.polyfit(1/T, np.log(p/p1), 1) # linear-regression\n",
    "dH = -a*R                               # Δh_vap (kJ/mol)\n",
    "T1 = dH / (b * R)                       # boiling point at 1 atm (kelvin)\n",
    "print(\"Δh = {:.3} kJ/mol\".format(dH/1000))\n",
    "print(\"T1 = {:.4} K\".format(T1))\n",
    "print(\"p* at 25°C = {:.3} torr\".format(exp(a * ( 1 / 298.15 ) + b ) * p1))"
   ]
  }
 ],
 "metadata": {
  "kernelspec": {
   "display_name": "Python 3 (ipykernel)",
   "language": "python",
   "name": "python3"
  },
  "language_info": {
   "codemirror_mode": {
    "name": "ipython",
    "version": 3
   },
   "file_extension": ".py",
   "mimetype": "text/x-python",
   "name": "python",
   "nbconvert_exporter": "python",
   "pygments_lexer": "ipython3",
   "version": "3.9.10"
  }
 },
 "nbformat": 4,
 "nbformat_minor": 5
}
