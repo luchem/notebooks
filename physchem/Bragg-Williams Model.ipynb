{
 "cells": [
  {
   "cell_type": "markdown",
   "id": "d253f458-9956-4025-aeb3-8399de619517",
   "metadata": {
    "tags": []
   },
   "source": [
    "# Bragg-Williams Model for a Two-component System\n",
    "\n",
    "This example demonstrates how the Bragg-Williams (BW) model predicts the partial pressure of compoments A and B over a liquid mixture of the two. The interaction parameter $\\alpha$ includes the relative A-B neighbor interaction, compared to the A-B and B-B interactions, as well as the number of neighbors, $z$. The partial pressure is given by,\n",
    "$$\n",
    "p_A = p_A^0 \\chi_A e^{\\alpha \\chi_B^2}\n",
    "$$\n",
    "\n",
    "where $p_A^0$ is the vapor pressure of pure A. If either $\\alpha$ or the mole fraction, $\\chi_B$, of the other component approach zero, ideal behavior, i.e. Rault's law, is obtained:\n",
    "$$\n",
    "p_A = p_A^0 \\chi_A\n",
    "$$"
   ]
  },
  {
   "cell_type": "code",
   "execution_count": 1,
   "id": "0817b1eb-5ce8-44ba-98f1-92297ec9fbff",
   "metadata": {},
   "outputs": [],
   "source": [
    "%matplotlib inline\n",
    "import matplotlib.pyplot as plt\n",
    "import numpy as np\n",
    "from ipywidgets import interact, interactive, fixed, interact_manual\n",
    "import ipywidgets as widgets\n",
    "from scipy.integrate import quad"
   ]
  },
  {
   "cell_type": "code",
   "execution_count": 2,
   "id": "9a3af2d9-09fd-4e16-9443-d9a5fe8789a6",
   "metadata": {},
   "outputs": [
    {
     "data": {
      "application/vnd.jupyter.widget-view+json": {
       "model_id": "914ec49fde244f5dadde272928c94788",
       "version_major": 2,
       "version_minor": 0
      },
      "text/plain": [
       "interactive(children=(FloatSlider(value=1.0, description='alpha', max=3.0, min=-3.0, step=0.5), FloatSlider(va…"
      ]
     },
     "metadata": {},
     "output_type": "display_data"
    }
   ],
   "source": [
    "chiA = np.arange(0,1.1,0.05) # mole fraction of A\n",
    "chiB = 1-chiA                # mole fraction of B\n",
    "\n",
    "def plotbw(alpha=1, p0A=0.7, p0B=0.2):\n",
    "    plt.plot( chiA, chiA * p0A * np.exp(alpha*chiB**2),'b-', label='Bragg-Williams'  )\n",
    "    plt.plot( chiA, chiA * p0A, 'b--', label=\"Rault's law\")    \n",
    "    plt.plot( chiA, chiB * p0B * np.exp(alpha*chiA**2),'r-')\n",
    "    plt.plot( chiA, chiB * p0B, 'r--')\n",
    "    plt.xlim(0,1)\n",
    "\n",
    "    plt.xlabel(r'$\\chi_A=1-\\chi_B$')\n",
    "    plt.ylabel(r'$p$', color='k')\n",
    "    \n",
    "    plt.annotate(r'$p_A^0$', (1,p0A), color='blue')\n",
    "    plt.annotate(r'$p_B^0$', (0,p0B), color='red')\n",
    "    plt.legend(loc=0, frameon=False)\n",
    "\n",
    "i = interact(plotbw, alpha=(-3,3, 0.5), p0A=(0,1,0.1), p0B=(0,1,0.1), continuous_update=False )\n",
    "\n",
    "i.widget.children[0].description=r'$\\alpha$'\n",
    "i.widget.children[1].description=r'$p_A^0$'\n",
    "i.widget.children[2].description=r'$p_B^0$'"
   ]
  }
 ],
 "metadata": {
  "kernelspec": {
   "display_name": "Python 3 (ipykernel)",
   "language": "python",
   "name": "python3"
  },
  "language_info": {
   "codemirror_mode": {
    "name": "ipython",
    "version": 3
   },
   "file_extension": ".py",
   "mimetype": "text/x-python",
   "name": "python",
   "nbconvert_exporter": "python",
   "pygments_lexer": "ipython3",
   "version": "3.9.10"
  }
 },
 "nbformat": 4,
 "nbformat_minor": 5
}
