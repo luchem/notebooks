{
 "cells": [
  {
   "cell_type": "markdown",
   "id": "bcadaf0f-ea22-4840-b56d-84b2628d6f9f",
   "metadata": {},
   "source": [
    "$$\\require{mhchem}$$\n",
    "# Thermodynamics of the [Haber-Bosch process](https://en.wikipedia.org/wiki/Haber_process)\n",
    "\n",
    "$\\ce{\\frac{1}{2}N2(g) + \\frac{3}{2}H2(g) -> NH3(g)}$\n",
    "\n",
    "(This is a solution to KFKA05's Exercise K17.3)"
   ]
  },
  {
   "cell_type": "code",
   "execution_count": 1,
   "id": "44a7d68e-2fd5-4ffa-b1e6-a884b4965c65",
   "metadata": {},
   "outputs": [],
   "source": [
    "%matplotlib inline\n",
    "import matplotlib.pyplot as plt\n",
    "import numpy as np\n",
    "from scipy.constants import R\n",
    "from math import exp, sqrt\n",
    "import scipy.integrate as integrate\n",
    "from scipy.optimize import fsolve"
   ]
  },
  {
   "cell_type": "code",
   "execution_count": 2,
   "id": "ab80fb85-ddbe-4926-ac35-8499f7299dfd",
   "metadata": {},
   "outputs": [],
   "source": [
    "# Heat capacity coefficients a, b, c\n",
    "table = {\n",
    "    \"NH3\": np.array([29.75, 25.10e-3, -1.55e5]),\n",
    "    \"N2\": np.array([28.58, 3.77e-3, -0.5e5]),\n",
    "    \"H2\": np.array([27.28, 3.26e-3, 0.5e5]),\n",
    "}\n",
    "\n",
    "\n",
    "def Cp(T):\n",
    "    \"\"\"heat capacity of reaction as a function of temperature (J/K/mol)\"\"\"\n",
    "    a, b, c = table[\"NH3\"] - 1 / 2 * table[\"N2\"] - 3 / 2 * table[\"H2\"]\n",
    "    return a + b * T + c / T**2"
   ]
  },
  {
   "cell_type": "markdown",
   "id": "ee632ab3-c21b-4233-afde-65d1d4287324",
   "metadata": {},
   "source": [
    "## Equilibrium constant, $K(T)$\n",
    "Here we calculate the equilibrium constant at different temperatures by numerically integrating\n",
    "the heat capacity, $C_p(T)$, to obtain contributions from the enthalpy and entropy:\n",
    "$$\n",
    "\\Delta H(T) = \\Delta H(T_0) + \\int_{T_0}^T C_p(T) dT\n",
    "$$\n",
    "and\n",
    "$$\n",
    "\\Delta S(T) = \\Delta S(T_0) + \\int_{T_0}^T \\frac{C_p(T)}{T} dT\n",
    "$$\n",
    "The reaction free energy is $\\Delta G(T) = \\Delta H(T) - T\\Delta S(T)$ and the equilibrium constant,\n",
    "$$\n",
    "K(T) = e^{-\\Delta G(T)/RT}\n",
    "$$"
   ]
  },
  {
   "cell_type": "code",
   "execution_count": 3,
   "id": "429ba141-b164-40d6-be35-7de69cfccc6e",
   "metadata": {},
   "outputs": [
    {
     "name": "stdout",
     "output_type": "stream",
     "text": [
      "dG(298.15) = -16.48 kJ/mol   K = 771.1\n",
      "dG(800) = 38.78 kJ/mol   K = 0.002939\n",
      "dG(900) = 50.47 kJ/mol   K = 0.001177\n"
     ]
    }
   ],
   "source": [
    "def reaction_free_energy(T):\n",
    "    \"\"\"calculates the reaction free energy at a different temperature\"\"\"\n",
    "    T0 = 298.15  # reference temperature\n",
    "    dG0 = -16.48e3  # reference dG, J/mol\n",
    "    dS0 = 192.45 - 1 / 2 * 191.61 - 3 / 2 * 130.684  # reference dS, J/mol\n",
    "    dH0 = -46.11e3  # reference dH, J/mol\n",
    "    dH = dH0 + integrate.quad(Cp, T0, T)[0]\n",
    "    dS = dS0 + integrate.quad(lambda T: Cp(T) / T, T0, T)[0]\n",
    "    dG = dH - T * dS\n",
    "    return dG\n",
    "\n",
    "\n",
    "for T in [298.15, 800, 900]:\n",
    "    dG = reaction_free_energy(T)\n",
    "    K = exp(-dG / R / T)\n",
    "    print(\"dG({}) = {:.4} kJ/mol   K = {:.4}\".format(T, dG / 1000, K))"
   ]
  },
  {
   "cell_type": "markdown",
   "id": "ced86af6-48da-4c82-a8a6-92929d0b6fdd",
   "metadata": {},
   "source": [
    "## Composition at elevated pressure and temperature\n",
    "\n",
    "We now fix the temperature to 800 K and the pressure to $p$=80 bar.\n",
    "What is the equilibrium composition if the mole-fraction of NH3 is 0.03 and with an excess of hydrogen?\n",
    "$K$ is already known from the previous calculation.\n",
    "The total pressure, $p=\\sum_i p_i$ and $\\sum_i x_i = 1$.\n",
    "With $x_{H2}=1-x_{N2}-x_{NH3}$ we write\n",
    "\n",
    "$$ K(800~K) = 0.002939 = \\frac{\\overbrace{x_{NH3}p}^{p_{NH3}}/p^{\\circ}}{ (x_{N2}p/p^{\\circ})^{1/2} \\cdot (1-x_{N2}-x_{NH3})^{3/2} (p/p^{\\circ})^{3/2}  } $$\n",
    "\n",
    "and it's now only a matter of solving for $x_{N2}$.\n",
    "Although this is in priciple easily done, Python's numerical schemes have trouble finding all roots in one go.\n",
    "We will therefore need to start the solver with initial _guesses_ and as can be seen below, we obtain two roots.\n",
    "As hydrogen is in _excess_, only the first found root is valid, and thus $x_{N2}$ = 0.0189."
   ]
  },
  {
   "cell_type": "code",
   "execution_count": 4,
   "id": "261fbd28-14a6-47df-aa55-f89fc99b8a00",
   "metadata": {},
   "outputs": [
    {
     "data": {
      "text/plain": [
       "(0.0189242204053502, 0.6820767732127475)"
      ]
     },
     "execution_count": 4,
     "metadata": {},
     "output_type": "execute_result"
    }
   ],
   "source": [
    "K = 0.002939  # at 800 K (see above)\n",
    "p = 80  # (bar divided by 1 bar, i.e. the standard state)\n",
    "xNH3 = 0.03  # NH3 mole fraction\n",
    "\n",
    "func = lambda xN2: xNH3 * p - K * (sqrt(xN2 * p) * ((1 - xN2 - xNH3) * p) ** (3 / 2))\n",
    "fsolve(func, 0.0)[0], fsolve(func, 0.95)[0]"
   ]
  },
  {
   "cell_type": "code",
   "execution_count": 5,
   "id": "e0d89e67-b92f-4ad0-b85c-19fac0facc6d",
   "metadata": {},
   "outputs": [
    {
     "data": {
      "text/plain": [
       "<matplotlib.collections.LineCollection at 0x108aefa00>"
      ]
     },
     "execution_count": 5,
     "metadata": {},
     "output_type": "execute_result"
    },
    {
     "data": {
      "image/png": "[encoded data removed]",
      "text/plain": [
       "<Figure size 432x288 with 1 Axes>"
      ]
     },
     "metadata": {
      "needs_background": "light"
     },
     "output_type": "display_data"
    }
   ],
   "source": [
    "f = np.vectorize(func)\n",
    "x = np.linspace(0, 0.97, 50)\n",
    "plt.plot(x, f(x))\n",
    "plt.xlabel(\"$x_{N2}$\")\n",
    "plt.ylabel(\"func(x)\")\n",
    "plt.hlines(0, 0, 1, color=\"black\")"
   ]
  }
 ],
 "metadata": {
  "kernelspec": {
   "display_name": "Python 3 (ipykernel)",
   "language": "python",
   "name": "python3"
  },
  "language_info": {
   "codemirror_mode": {
    "name": "ipython",
    "version": 3
   },
   "file_extension": ".py",
   "mimetype": "text/x-python",
   "name": "python",
   "nbconvert_exporter": "python",
   "pygments_lexer": "ipython3",
   "version": "3.9.12"
  }
 },
 "nbformat": 4,
 "nbformat_minor": 5
}
