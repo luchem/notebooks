{
 "cells": [
  {
   "cell_type": "code",
   "execution_count": 1,
   "id": "b0703e0e-b042-445b-9aa0-123c945dd689",
   "metadata": {},
   "outputs": [],
   "source": [
    "%matplotlib inline\n",
    "import matplotlib.pyplot as plt\n",
    "import numpy as np\n",
    "from ipywidgets import interact, interactive, fixed, interact_manual\n",
    "import ipywidgets as widgets\n",
    "from scipy.integrate import quad\n",
    "from scipy.constants import h, c, k, N_A # import physical constants\n",
    "from scipy.misc import derivative "
   ]
  },
  {
   "cell_type": "markdown",
   "id": "6e1ce8a3-4a51-42d0-9d67-3ce949a19fef",
   "metadata": {
    "tags": []
   },
   "source": [
    "# Two-level system\n",
    "\n",
    "Here we consider a system where two energy level are possible; the ground state (0) and the first excited state, $\\epsilon$. The partition function is\n",
    "\n",
    "$$\n",
    "q = 1+e^{-\\epsilon / k_BT}\n",
    "$$"
   ]
  },
  {
   "cell_type": "code",
   "execution_count": 2,
   "id": "f093d0a0-49e0-4de6-95e3-0abd4b568ce0",
   "metadata": {},
   "outputs": [
    {
     "data": {
      "image/png": "[encoded data removed]",
      "text/plain": [
       "<Figure size 432x288 with 1 Axes>"
      ]
     },
     "metadata": {
      "needs_background": "light"
     },
     "output_type": "display_data"
    }
   ],
   "source": [
    "def q(T): return 1+np.exp(-epsilon/(k*T))\n",
    "def energy(T): return epsilon / (np.exp(epsilon/(k*T)+1) ) # atkins p625 (10th)\n",
    "def Cv(T): return np.gradient( energy(T)/k, T[1]-T[0] )\n",
    "\n",
    "fig, ax = plt.subplots()\n",
    "epsilon=k*4\n",
    "T=np.arange(0.1, 10, 0.5)\n",
    "plt.plot(T,q(T), label=r'$q = 1+1 / e^{-\\beta \\epsilon}$', lw=4, alpha=0.7)\n",
    "plt.plot(T, energy(T)/k, label=r'$\\langle \\epsilon \\rangle = -\\frac{1}{q}\\frac{\\partial q}{\\partial \\beta}$',\n",
    "         lw=4, alpha=0.7)\n",
    "plt.plot(T, Cv(T), label=r'$C_v=\\partial \\langle \\epsilon \\rangle / \\partial T$', lw=4, alpha=0.7)\n",
    "plt.legend(frameon=False, loc=0, fontsize='large', ncol=2)\n",
    "plt.ylim(0, 2)\n",
    "plt.xlabel('Temperature');"
   ]
  },
  {
   "cell_type": "markdown",
   "id": "eda74332-5f3b-48dd-8599-f4c279279638",
   "metadata": {},
   "source": [
    "# Rotational Partition Function\n",
    "\n",
    "The following plots the rotational partition function and how each quantum number, $J$, contributions. We use `ipywidgets` to add an interactive slider to control the temperature.\n",
    "The manual for `ipywidgets` can be found [here](https://ipywidgets.readthedocs.io/en/latest/index.html)."
   ]
  },
  {
   "cell_type": "code",
   "execution_count": 3,
   "id": "e4e86203-97cd-485e-808c-3837c7d1049d",
   "metadata": {},
   "outputs": [
    {
     "data": {
      "application/vnd.jupyter.widget-view+json": {
       "model_id": "41ae95f5b8b8486ab8e2632c6ae9c64d",
       "version_major": 2,
       "version_minor": 0
      },
      "text/plain": [
       "interactive(children=(IntSlider(value=525, description='T', max=1000, min=50), Output()), _dom_classes=('widge…"
      ]
     },
     "metadata": {},
     "output_type": "display_data"
    }
   ],
   "source": [
    "B = 10.591 * 100 # 1/m # rotational wave-number (related to moment of inertia)\n",
    "J = np.arange(0,15,1)  # quantum numbers (called \"l\" in Dill's book)\n",
    "\n",
    "def q(J,beta):\n",
    "    ''' rotational partition function for a given J '''\n",
    "    return (2*J+1) * np.exp( -beta*h*c*B*J*(J+1) )\n",
    "\n",
    "def qrot(beta):\n",
    "    ''' partition function for \"inifinite\" number of quantum numbers '''\n",
    "    J = np.arange(0,500,1)\n",
    "    return np.sum( q(J,beta) )\n",
    "\n",
    "def qrotHT(beta):\n",
    "    ''' partition function in the high temperature limit, i.e. summation --> integral '''\n",
    "    return 1/(beta*h*c*B)\n",
    "\n",
    "def plot(T):\n",
    "    ''' plots partition function at given temperature '''\n",
    "    beta = 1/(k*T)\n",
    "    plt.plot(J, q(J,beta).cumsum(), 'b--o', alpha=0.7, lw=2, ms=10,\n",
    "             label=r'Explicit summation <$E$>={:.2f} kT'\n",
    "             .format(-derivative( qrot, beta, dx=0.001*beta ) / qrot(beta) * beta) )\n",
    "    plt.plot( [0,1000], [qrotHT(beta),qrotHT(beta)], 'r-', alpha=0.5, lw=4,\n",
    "             label=r'High temperature limit <$E$>={:.2f} kT'\n",
    "             .format(-derivative( qrotHT, beta, dx=0.001*beta ) / qrotHT(beta) * beta))\n",
    "    plt.xlim( 0, 14 )\n",
    "    plt.xlabel( 'Quantum number, $J$' )\n",
    "    plt.ylabel( 'Summed partition function, $q$' )\n",
    "    plt.legend(loc=0, frameon=False)\n",
    "    plt.title('Rotational Partition Function, $q_r$')\n",
    "\n",
    "# this part sets up a temperature slider to control the plot\n",
    "i = interact(plot, T=(50, 1000), continuous_update=False)\n",
    "i.widget.children[0].description=r'$T$ (Kelvin)';"
   ]
  },
  {
   "cell_type": "code",
   "execution_count": null,
   "id": "2a6fd5cd-323f-4c1d-ac78-9a592331023a",
   "metadata": {},
   "outputs": [],
   "source": []
  }
 ],
 "metadata": {
  "kernelspec": {
   "display_name": "Python 3 (ipykernel)",
   "language": "python",
   "name": "python3"
  },
  "language_info": {
   "codemirror_mode": {
    "name": "ipython",
    "version": 3
   },
   "file_extension": ".py",
   "mimetype": "text/x-python",
   "name": "python",
   "nbconvert_exporter": "python",
   "pygments_lexer": "ipython3",
   "version": "3.9.10"
  }
 },
 "nbformat": 4,
 "nbformat_minor": 5
}
